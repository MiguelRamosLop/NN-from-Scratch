{
 "cells": [
  {
   "cell_type": "markdown",
   "id": "af89ccdf",
   "metadata": {},
   "source": [
    "## NN from scratch"
   ]
  },
  {
   "cell_type": "markdown",
   "id": "badc087e",
   "metadata": {},
   "source": [
    "simple neural network implementation from scratch trained on the MNIST dataset, with subsequent enhancements for improved performance. From this implementation: https://www.kaggle.com/code/wwsalmon/simple-mnist-nn-from-scratch-numpy-no-tf-keras/notebook, several changes were made to improve performance and accuracy.\n",
    "\n",
    "Key Components:\n",
    "MNIST Dataset:\n",
    "The model is trained and tested on the MNIST dataset, consisting of grayscale images of hand-written digits (0-9). https://www.kaggle.com/competitions/digit-recognizer/data (from kaggle)\n",
    "\n",
    "Neural Network from Scratch:\n",
    "The initial implementation includes a basic neural network architecture for digit classification. Improvements:\n",
    "\n",
    "- Hyperparameter tuning with adaptive learning rate scheduling.\n",
    "- Kaiming initialization for improving weiths initialization.\n",
    "- L2 regularization to prevent overfitting.\n",
    "- Mini-batch gradient descent for improved efficiency."
   ]
  },
  {
   "cell_type": "code",
   "execution_count": 1,
   "id": "fbf76699",
   "metadata": {},
   "outputs": [
    {
     "name": "stderr",
     "output_type": "stream",
     "text": [
      "C:\\Users\\migue\\anaconda3\\lib\\site-packages\\numpy\\_distributor_init.py:30: UserWarning: loaded more than 1 DLL from .libs:\n",
      "C:\\Users\\migue\\anaconda3\\lib\\site-packages\\numpy\\.libs\\libopenblas.XWYDX2IKJW2NMTWSFYNGFUWKQU3LYTCZ.gfortran-win_amd64.dll\n",
      "C:\\Users\\migue\\anaconda3\\lib\\site-packages\\numpy\\.libs\\libopenblas64__v0.3.21-gcc_10_3_0.dll\n",
      "  warnings.warn(\"loaded more than 1 DLL from .libs:\"\n"
     ]
    }
   ],
   "source": [
    "# Import necessary libraries\n",
    "import numpy as np\n",
    "import pandas as pd\n",
    "from matplotlib import pyplot as plt\n",
    "\n",
    "# Read the CSV file 'train.csv' into a Pandas DataFrame\n",
    "data = pd.read_csv('train.csv')"
   ]
  },
  {
   "cell_type": "markdown",
   "id": "b86578af",
   "metadata": {},
   "source": [
    "### NN Workflow overview"
   ]
  },
  {
   "cell_type": "markdown",
   "id": "2bc18286",
   "metadata": {},
   "source": [
    "![NN Workflow Overview](NN%20workflow%20overview.jpg)"
   ]
  },
  {
   "cell_type": "code",
   "execution_count": 2,
   "id": "c7bf7bc9",
   "metadata": {},
   "outputs": [],
   "source": [
    "data = np.array(data) # Convert the data from DataFrame to a NumPy array\n",
    "m, n = data.shape # m rows; n columns\n",
    "np.random.shuffle(data) # shuffle randomly before splitting into dev and training sets\n",
    "\n",
    "data_dev = data[0:1000].T\n",
    "Y_dev = data_dev[0]\n",
    "X_dev = data_dev[1:n]\n",
    "X_dev = X_dev / 255. # normalize\n",
    "\n",
    "data_train = data[1000:m].T\n",
    "Y_train = data_train[0]\n",
    "X_train = data_train[1:n]\n",
    "X_train = X_train / 255. # normalize\n",
    "\n",
    "_,m_train = X_train.shape"
   ]
  },
  {
   "cell_type": "code",
   "execution_count": 3,
   "id": "212e6adb",
   "metadata": {},
   "outputs": [],
   "source": [
    "# Update the init_params function to use Kaiming He initialization\n",
    "def init_params():\n",
    "    W1 = np.random.randn(10, 784) * np.sqrt(2 / 784)\n",
    "    b1 = np.zeros((10, 1))\n",
    "    W2 = np.random.randn(10, 10) * np.sqrt(2 / 10)\n",
    "    b2 = np.zeros((10, 1))\n",
    "    return W1, b1, W2, b2\n",
    "\n",
    "def ReLU(Z):\n",
    "    return np.maximum(Z, 0)\n",
    "\n",
    "def softmax(Z):\n",
    "    A = np.exp(Z) / sum(np.exp(Z))\n",
    "    return A\n",
    "    \n",
    "def forward_prop(W1, b1, W2, b2, X):\n",
    "    Z1 = W1.dot(X) + b1\n",
    "    A1 = ReLU(Z1)\n",
    "    Z2 = W2.dot(A1) + b2\n",
    "    A2 = softmax(Z2)\n",
    "    return Z1, A1, Z2, A2\n",
    "\n",
    "def ReLU_deriv(Z):\n",
    "    return Z > 0\n",
    "\n",
    "def one_hot(Y):\n",
    "    one_hot_Y = np.zeros((Y.size, Y.max() + 1))\n",
    "    one_hot_Y[np.arange(Y.size), Y] = 1\n",
    "    one_hot_Y = one_hot_Y.T\n",
    "    return one_hot_Y\n",
    "\n",
    "# Update the backward_prop function to include L2 regularization\n",
    "def backward_prop(Z1, A1, Z2, A2, W1, W2, X, Y, lambd):\n",
    "    one_hot_Y = one_hot(Y)\n",
    "    dZ2 = A2 - one_hot_Y\n",
    "    dW2 = (1 / m) * dZ2.dot(A1.T) + (lambd / m) * W2\n",
    "    db2 = (1 / m) * np.sum(dZ2)\n",
    "    dZ1 = W2.T.dot(dZ2) * ReLU_deriv(Z1)\n",
    "    dW1 = (1 / m) * dZ1.dot(X.T) + (lambd / m) * W1\n",
    "    db1 = (1 / m) * np.sum(dZ1)\n",
    "    return dW1, db1, dW2, db2\n",
    "\n",
    "\n",
    "# This function adjusts the learning rate during training using a schedule\n",
    "def learning_rate_schedule(initial_alpha, iteration):\n",
    "    return initial_alpha / (1 + 0.0001 * iteration)\n",
    "\n",
    "# Update the update_params function to use the learning rate schedule \n",
    "# using the learning rate schedule to control the step size in the parameter update\n",
    "# The learning rate (alpha) is adjusted at each iteration using the learning_rate_schedule function\n",
    "def update_params(W1, b1, W2, b2, dW1, db1, dW2, db2, alpha, iteration):\n",
    "    alpha = learning_rate_schedule(alpha, iteration) # Adjust the learning rate based on the schedule\n",
    "    W1 = W1 - alpha * dW1\n",
    "    b1 = b1 - alpha * db1    \n",
    "    W2 = W2 - alpha * dW2  \n",
    "    b2 = b2 - alpha * db2    \n",
    "    return W1, b1, W2, b2"
   ]
  },
  {
   "cell_type": "code",
   "execution_count": 4,
   "id": "23f9eb17",
   "metadata": {},
   "outputs": [],
   "source": [
    "def get_predictions(A2):\n",
    "    return np.argmax(A2, 0)\n",
    "\n",
    "def get_accuracy(predictions, Y):\n",
    "    print(predictions, Y)\n",
    "    return np.sum(predictions == Y) / Y.size\n",
    "\n",
    "lambd = 0.01 # Regularization parameter\n",
    "\n",
    "# performs gradient descent optimization to train the neural network.\n",
    "# It updates the weights and biases (W1, b1, W2, b2) using forward and backward propagation.\n",
    "def gradient_descent(X, Y, alpha, iterations):\n",
    "    W1, b1, W2, b2 = init_params()\n",
    "    for i in range(iterations):\n",
    "        Z1, A1, Z2, A2 = forward_prop(W1, b1, W2, b2, X)\n",
    "        dW1, db1, dW2, db2 = backward_prop(Z1, A1, Z2, A2, W1, W2, X, Y, lambd) # Regularization is applied to prevent overfitting using the lambda (lambd) parameter.\n",
    "        W1, b1, W2, b2 = update_params(W1, b1, W2, b2, dW1, db1, dW2, db2, alpha, i)\n",
    "        if i % 10 == 0:\n",
    "            print(\"Iteration: \", i)\n",
    "            predictions = get_predictions(A2)\n",
    "            print(get_accuracy(predictions, Y))\n",
    "    return W1, b1, W2, b2"
   ]
  },
  {
   "cell_type": "code",
   "execution_count": 5,
   "id": "4b3b15c4",
   "metadata": {},
   "outputs": [
    {
     "name": "stdout",
     "output_type": "stream",
     "text": [
      "Iteration:  0\n",
      "[1 1 1 ... 3 8 3] [2 6 0 ... 5 8 8]\n",
      "0.08536585365853659\n",
      "Iteration:  10\n",
      "[2 6 0 ... 3 3 3] [2 6 0 ... 5 8 8]\n",
      "0.2975609756097561\n",
      "Iteration:  20\n",
      "[2 6 0 ... 3 3 3] [2 6 0 ... 5 8 8]\n",
      "0.47621951219512193\n",
      "Iteration:  30\n",
      "[2 6 0 ... 3 8 3] [2 6 0 ... 5 8 8]\n",
      "0.5692682926829268\n",
      "Iteration:  40\n",
      "[2 6 0 ... 3 8 1] [2 6 0 ... 5 8 8]\n",
      "0.6144390243902439\n",
      "Iteration:  50\n",
      "[2 6 0 ... 3 8 1] [2 6 0 ... 5 8 8]\n",
      "0.6405121951219512\n",
      "Iteration:  60\n",
      "[2 6 0 ... 5 8 1] [2 6 0 ... 5 8 8]\n",
      "0.6634634146341464\n",
      "Iteration:  70\n",
      "[2 6 0 ... 5 8 1] [2 6 0 ... 5 8 8]\n",
      "0.7212439024390244\n",
      "Iteration:  80\n",
      "[2 6 0 ... 5 8 1] [2 6 0 ... 5 8 8]\n",
      "0.7858780487804878\n",
      "Iteration:  90\n",
      "[2 6 0 ... 5 8 1] [2 6 0 ... 5 8 8]\n",
      "0.8133414634146341\n",
      "Iteration:  100\n",
      "[2 6 0 ... 5 8 1] [2 6 0 ... 5 8 8]\n",
      "0.8261463414634146\n",
      "Iteration:  110\n",
      "[2 6 0 ... 5 8 1] [2 6 0 ... 5 8 8]\n",
      "0.8345609756097561\n",
      "Iteration:  120\n",
      "[2 6 0 ... 5 8 1] [2 6 0 ... 5 8 8]\n",
      "0.8422439024390244\n",
      "Iteration:  130\n",
      "[2 6 0 ... 5 8 1] [2 6 0 ... 5 8 8]\n",
      "0.8489512195121951\n",
      "Iteration:  140\n",
      "[2 6 0 ... 5 8 1] [2 6 0 ... 5 8 8]\n",
      "0.8551951219512195\n",
      "Iteration:  150\n",
      "[2 6 0 ... 5 8 1] [2 6 0 ... 5 8 8]\n",
      "0.8599512195121951\n",
      "Iteration:  160\n",
      "[2 6 0 ... 5 8 1] [2 6 0 ... 5 8 8]\n",
      "0.8643170731707317\n",
      "Iteration:  170\n",
      "[2 6 0 ... 5 8 1] [2 6 0 ... 5 8 8]\n",
      "0.868219512195122\n",
      "Iteration:  180\n",
      "[2 6 0 ... 5 8 1] [2 6 0 ... 5 8 8]\n",
      "0.8714878048780488\n",
      "Iteration:  190\n",
      "[2 6 0 ... 5 8 1] [2 6 0 ... 5 8 8]\n",
      "0.8735609756097561\n",
      "Iteration:  200\n",
      "[2 6 0 ... 5 8 8] [2 6 0 ... 5 8 8]\n",
      "0.8760731707317073\n",
      "Iteration:  210\n",
      "[2 6 0 ... 5 8 8] [2 6 0 ... 5 8 8]\n",
      "0.8783414634146341\n",
      "Iteration:  220\n",
      "[2 6 0 ... 5 8 8] [2 6 0 ... 5 8 8]\n",
      "0.8806585365853659\n",
      "Iteration:  230\n",
      "[2 6 0 ... 5 8 8] [2 6 0 ... 5 8 8]\n",
      "0.8823414634146342\n",
      "Iteration:  240\n",
      "[2 6 0 ... 5 8 8] [2 6 0 ... 5 8 8]\n",
      "0.8844878048780488\n",
      "Iteration:  250\n",
      "[2 6 0 ... 5 8 8] [2 6 0 ... 5 8 8]\n",
      "0.8858780487804878\n",
      "Iteration:  260\n",
      "[2 6 0 ... 5 8 8] [2 6 0 ... 5 8 8]\n",
      "0.8872926829268293\n",
      "Iteration:  270\n",
      "[2 6 0 ... 5 8 8] [2 6 0 ... 5 8 8]\n",
      "0.8884390243902439\n",
      "Iteration:  280\n",
      "[2 6 0 ... 5 8 8] [2 6 0 ... 5 8 8]\n",
      "0.8892926829268293\n",
      "Iteration:  290\n",
      "[2 6 0 ... 5 8 8] [2 6 0 ... 5 8 8]\n",
      "0.8907804878048781\n",
      "Iteration:  300\n",
      "[2 6 0 ... 5 8 8] [2 6 0 ... 5 8 8]\n",
      "0.8919268292682927\n",
      "Iteration:  310\n",
      "[2 6 0 ... 5 8 8] [2 6 0 ... 5 8 8]\n",
      "0.8928536585365854\n",
      "Iteration:  320\n",
      "[2 6 0 ... 5 8 8] [2 6 0 ... 5 8 8]\n",
      "0.8938536585365854\n",
      "Iteration:  330\n",
      "[2 6 0 ... 5 8 8] [2 6 0 ... 5 8 8]\n",
      "0.8947073170731707\n",
      "Iteration:  340\n",
      "[2 6 0 ... 5 8 8] [2 6 0 ... 5 8 8]\n",
      "0.8954390243902439\n",
      "Iteration:  350\n",
      "[2 6 0 ... 5 8 8] [2 6 0 ... 5 8 8]\n",
      "0.896390243902439\n",
      "Iteration:  360\n",
      "[2 6 0 ... 5 8 8] [2 6 0 ... 5 8 8]\n",
      "0.8972439024390244\n",
      "Iteration:  370\n",
      "[2 6 0 ... 5 8 8] [2 6 0 ... 5 8 8]\n",
      "0.8979756097560976\n",
      "Iteration:  380\n",
      "[2 6 0 ... 5 8 8] [2 6 0 ... 5 8 8]\n",
      "0.8984634146341464\n",
      "Iteration:  390\n",
      "[2 6 0 ... 5 8 8] [2 6 0 ... 5 8 8]\n",
      "0.8990731707317073\n",
      "Iteration:  400\n",
      "[2 6 0 ... 5 8 8] [2 6 0 ... 5 8 8]\n",
      "0.8996341463414634\n",
      "Iteration:  410\n",
      "[2 6 0 ... 5 8 8] [2 6 0 ... 5 8 8]\n",
      "0.9003170731707317\n",
      "Iteration:  420\n",
      "[2 6 0 ... 5 8 8] [2 6 0 ... 5 8 8]\n",
      "0.9007073170731708\n",
      "Iteration:  430\n",
      "[2 6 0 ... 5 8 8] [2 6 0 ... 5 8 8]\n",
      "0.9012926829268293\n",
      "Iteration:  440\n",
      "[2 6 0 ... 5 8 8] [2 6 0 ... 5 8 8]\n",
      "0.9016829268292683\n",
      "Iteration:  450\n",
      "[2 6 0 ... 5 8 8] [2 6 0 ... 5 8 8]\n",
      "0.9019756097560976\n",
      "Iteration:  460\n",
      "[2 6 0 ... 5 8 8] [2 6 0 ... 5 8 8]\n",
      "0.9025853658536586\n",
      "Iteration:  470\n",
      "[2 6 0 ... 5 8 8] [2 6 0 ... 5 8 8]\n",
      "0.9028536585365854\n",
      "Iteration:  480\n",
      "[2 6 0 ... 5 8 8] [2 6 0 ... 5 8 8]\n",
      "0.9035609756097561\n",
      "Iteration:  490\n",
      "[2 6 0 ... 5 8 8] [2 6 0 ... 5 8 8]\n",
      "0.9039268292682927\n"
     ]
    }
   ],
   "source": [
    "W1, b1, W2, b2 = gradient_descent(X_train, Y_train, 0.10, 500)\n",
    "# Results format:\n",
    "# Iteration X\n",
    "# [predic1 predic2 ... predicN-1] [label1 label2 ... labelN-1]"
   ]
  },
  {
   "cell_type": "code",
   "execution_count": 11,
   "id": "b9946260",
   "metadata": {},
   "outputs": [],
   "source": [
    "def make_predictions(X, W1, b1, W2, b2):\n",
    "    \"\"\"\n",
    "    Make predictions on input data.\n",
    "\n",
    "    Parameters:\n",
    "    - X: Input data (features)\n",
    "    - W1, b1, W2, b2: Parameters of the neural network\n",
    "\n",
    "    Returns:\n",
    "    - predictions: Predicted labels\n",
    "    \"\"\"\n",
    "    _, _, _, A2 = forward_prop(W1, b1, W2, b2, X)\n",
    "    predictions = get_predictions(A2)\n",
    "    return predictions\n",
    "\n",
    "def test_prediction(index, W1, b1, W2, b2):\n",
    "    # Extract the current image and its label\n",
    "    current_image = X_train[:, index, None]\n",
    "    prediction = make_predictions(X_train[:, index, None], W1, b1, W2, b2)\n",
    "    label = Y_train[index]\n",
    "    \n",
    "    # Print the prediction and true label\n",
    "    print(\"Prediction: \", prediction)\n",
    "    print(\"Label: \", label)\n",
    "    \n",
    "    # Display the current image\n",
    "    current_image = current_image.reshape((28, 28)) * 255\n",
    "    plt.gray()\n",
    "    plt.imshow(current_image, interpolation='nearest')\n",
    "    plt.show()"
   ]
  },
  {
   "cell_type": "code",
   "execution_count": 8,
   "id": "dd77964e",
   "metadata": {
    "scrolled": false
   },
   "outputs": [
    {
     "name": "stdout",
     "output_type": "stream",
     "text": [
      "Prediction:  [5]\n",
      "Label:  5\n"
     ]
    },
    {
     "data": {
      "image/png": "[encoded data removed]",
      "text/plain": [
       "<Figure size 640x480 with 1 Axes>"
      ]
     },
     "metadata": {},
     "output_type": "display_data"
    },
    {
     "name": "stdout",
     "output_type": "stream",
     "text": [
      "Prediction:  [7]\n",
      "Label:  7\n"
     ]
    },
    {
     "data": {
      "image/png": "[encoded data removed]",
      "text/plain": [
       "<Figure size 640x480 with 1 Axes>"
      ]
     },
     "metadata": {},
     "output_type": "display_data"
    },
    {
     "name": "stdout",
     "output_type": "stream",
     "text": [
      "Prediction:  [1]\n",
      "Label:  1\n"
     ]
    },
    {
     "data": {
      "image/png": "[encoded data removed]",
      "text/plain": [
       "<Figure size 640x480 with 1 Axes>"
      ]
     },
     "metadata": {},
     "output_type": "display_data"
    },
    {
     "name": "stdout",
     "output_type": "stream",
     "text": [
      "Prediction:  [4]\n",
      "Label:  4\n"
     ]
    },
    {
     "data": {
      "image/png": "[encoded data removed]",
      "text/plain": [
       "<Figure size 640x480 with 1 Axes>"
      ]
     },
     "metadata": {},
     "output_type": "display_data"
    }
   ],
   "source": [
    "test_prediction(3, W1, b1, W2, b2)\n",
    "test_prediction(67, W1, b1, W2, b2)\n",
    "test_prediction(7, W1, b1, W2, b2)\n",
    "test_prediction(100, W1, b1, W2, b2)"
   ]
  }
 ],
 "metadata": {
  "kernelspec": {
   "display_name": "Python 3 (ipykernel)",
   "language": "python",
   "name": "python3"
  },
  "language_info": {
   "codemirror_mode": {
    "name": "ipython",
    "version": 3
   },
   "file_extension": ".py",
   "mimetype": "text/x-python",
   "name": "python",
   "nbconvert_exporter": "python",
   "pygments_lexer": "ipython3",
   "version": "3.9.13"
  }
 },
 "nbformat": 4,
 "nbformat_minor": 5
}
